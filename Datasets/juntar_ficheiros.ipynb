{
 "cells": [
  {
   "cell_type": "code",
   "execution_count": 9,
   "id": "76f5137f",
   "metadata": {},
   "outputs": [],
   "source": [
    "import pandas as pd\n",
    "import numpy as np\n",
    "import random"
   ]
  },
  {
   "cell_type": "code",
   "execution_count": 10,
   "id": "515dce8a",
   "metadata": {},
   "outputs": [],
   "source": [
    "\n",
    "# Carregar os ficheiros\n",
    "voos = pd.read_csv(\"flights_com_modelos.csv\")\n",
    "aeroportos = pd.read_csv(\"aeroportos_formatado.csv\")\n",
    "aeronaves = pd.read_csv(\"aeronaves.csv\")\n",
    "companhias = pd.read_csv(\"airlines.csv\")\n",
    "\n",
    "# 2. Renomear colunas relevantes\n",
    "aeronaves.rename(columns={\"Model\": \"Modelo Avião\", \"Company\": \"Fabricante\"}, inplace=True)\n",
    "companhias.rename(columns={\"Name\": \"nome_companhia_aerea\", \"IATA\": \"AIRLINE\"}, inplace=True)\n",
    "\n",
    "# 3. Juntar os dados\n",
    "voos = voos.merge(aeronaves, on=\"Modelo Avião\", how=\"left\")\n",
    "voos = voos.merge(companhias[[\"AIRLINE\", \"nome_companhia_aerea\"]], on=\"AIRLINE\", how=\"left\")\n",
    "voos = voos.merge(aeroportos[[\"Codigo_IATA\", \"Nome\"]], left_on=\"ORIGIN\", right_on=\"Codigo_IATA\", how=\"left\")\n",
    "voos.rename(columns={\"Nome\": \"aeroporto_origem\"}, inplace=True)\n",
    "voos = voos.merge(aeroportos[[\"Codigo_IATA\", \"Nome\"]], left_on=\"DEST\", right_on=\"Codigo_IATA\", how=\"left\")\n",
    "voos.rename(columns={\"Nome\": \"aeroporto_destino\"}, inplace=True)\n",
    "\n",
    "# 4. Preparar dados finais\n",
    "voos_final = pd.DataFrame({\n",
    "    \"nr_voo\": voos[\"FL_NUMBER\"],\n",
    "    \"data_partida\": voos[\"FL_DATE\"],\n",
    "    \"nome_companhia_aerea\": voos[\"nome_companhia_aerea\"],\n",
    "    \"aeroporto_origem\": voos[\"aeroporto_origem\"],\n",
    "    \"aeroporto_destino\": voos[\"aeroporto_destino\"],\n",
    "    \"hora_partida_real\": voos[\"DEP_TIME\"],\n",
    "    \"hora_partida_esperada\": voos[\"CRS_DEP_TIME\"],\n",
    "    \"hora_chegada_real\": voos[\"ARR_TIME\"],\n",
    "    \"hora_chegada_esperada\": voos[\"CRS_ARR_TIME\"],\n",
    "    \"cancelado\": voos[\"CANCELLED\"],\n",
    "    \"desviado\": voos[\"DIVERTED\"],\n",
    "    \"distancia\": voos[\"DISTANCE\"],\n",
    "    \"atraso_companhia_aerea\": voos[\"DELAY_DUE_CARRIER\"],\n",
    "    \"atraso_metereologia\": voos[\"DELAY_DUE_WEATHER\"],\n",
    "    \"atraso_SNA\": voos[\"DELAY_DUE_NAS\"],\n",
    "    \"atraso_seguranca\": voos[\"DELAY_DUE_SECURITY\"],\n",
    "    \"atraso_voo_anterior\": voos[\"DELAY_DUE_LATE_AIRCRAFT\"],\n",
    "    \"Modelo_Avião\": voos[\"Modelo Avião\"],\n",
    "    \"Fabricante\": voos[\"Fabricante\"],\n",
    "    \"avaliacao\": voos[\"Rating\"]\n",
    "})\n"
   ]
  },
  {
   "cell_type": "code",
   "execution_count": 11,
   "id": "948e3725",
   "metadata": {},
   "outputs": [
    {
     "name": "stdout",
     "output_type": "stream",
     "text": [
      "✅ Ficheiro 'voos_completos_clima.csv' criado com sucesso.\n"
     ]
    }
   ],
   "source": [
    "# 5. Gerar campos climáticos com base nos atrasos\n",
    "def simular_clima(row):\n",
    "    clima = {\n",
    "        \"temperatura\": np.random.uniform(15, 25),\n",
    "        \"precipitacao\": np.random.uniform(0, 5),\n",
    "        \"visibilidade\": np.random.uniform(8, 15),\n",
    "        \"cobertura_nuvens\": np.random.uniform(0, 50),\n",
    "        \"velocidade\": np.random.uniform(5, 20),\n",
    "        \"direcao\": np.random.uniform(0, 360)\n",
    "    }\n",
    "\n",
    "    if row[\"atraso_metereologia\"] > 0:\n",
    "        clima[\"temperatura\"] = np.random.uniform(25, 40)\n",
    "        clima[\"precipitacao\"] = np.random.uniform(5, 50)\n",
    "        clima[\"cobertura_nuvens\"] = np.random.uniform(60, 100)\n",
    "\n",
    "    if row[\"atraso_companhia_aerea\"] > 0:\n",
    "        clima[\"precipitacao\"] += np.random.uniform(3, 20)\n",
    "\n",
    "    if row[\"atraso_SNA\"] > 0:\n",
    "        clima[\"velocidade\"] = np.random.uniform(20, 60)\n",
    "        clima[\"direcao\"] = np.random.uniform(0, 360)\n",
    "\n",
    "    if row[\"atraso_seguranca\"] > 0:\n",
    "        clima[\"cobertura_nuvens\"] = max(clima[\"cobertura_nuvens\"], np.random.uniform(70, 100))\n",
    "        clima[\"visibilidade\"] = np.random.uniform(0.5, 5)\n",
    "\n",
    "    if row[\"atraso_voo_anterior\"] > 0:\n",
    "        for key in clima:\n",
    "            clima[key] *= np.random.uniform(1.05, 1.15)\n",
    "\n",
    "    return pd.Series(clima)\n",
    "\n",
    "# 6. Aplicar simulação\n",
    "clima_df = voos_final.apply(simular_clima, axis=1)\n",
    "voos_completos = pd.concat([voos_final, clima_df], axis=1)\n",
    "\n",
    "# 7. Exportar para CSV\n",
    "voos_completos.to_csv(\"voos_completos_clima.csv\", index=False)\n",
    "\n",
    "print(\"✅ Ficheiro 'voos_completos_clima.csv' criado com sucesso.\")"
   ]
  }
 ],
 "metadata": {
  "kernelspec": {
   "display_name": "DAA2425",
   "language": "python",
   "name": "python3"
  },
  "language_info": {
   "codemirror_mode": {
    "name": "ipython",
    "version": 3
   },
   "file_extension": ".py",
   "mimetype": "text/x-python",
   "name": "python",
   "nbconvert_exporter": "python",
   "pygments_lexer": "ipython3",
   "version": "3.12.4"
  }
 },
 "nbformat": 4,
 "nbformat_minor": 5
}
