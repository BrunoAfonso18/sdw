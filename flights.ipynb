{
 "cells": [
  {
   "cell_type": "markdown",
   "id": "1e5a8ac8",
   "metadata": {},
   "source": [
    "<a id=\"feature_engineering\"></a>\n",
    "# <p style=\"background-color: #87CEEB; font-family:calibri; color:black; font-size:140%; font-family:Verdana; text-align:center; border-radius:15px 50px;\">Step 1 | Setup and Analysis</p>"
   ]
  },
  {
   "cell_type": "markdown",
   "id": "e57bec27",
   "metadata": {},
   "source": [
    "# <b></span><span style='color:#87CEEB'> Importing Necessary Libraries</span></b>"
   ]
  },
  {
   "cell_type": "code",
   "execution_count": null,
   "id": "e63c3d14",
   "metadata": {},
   "outputs": [],
   "source": [
    "import pandas as pd\n",
    "import numpy as np\n",
    "import matplotlib.pyplot as plt"
   ]
  },
  {
   "cell_type": "markdown",
   "id": "6cc27207",
   "metadata": {},
   "source": [
    "# <b></span><span style='color:#87CEEB'> Load dataware house</span></b>"
   ]
  },
  {
   "cell_type": "code",
   "execution_count": null,
   "id": "1a684df4",
   "metadata": {},
   "outputs": [],
   "source": [
    "df_flights = pd.read_csv('viagens/flights_ratings_modelos.csv')"
   ]
  },
  {
   "cell_type": "code",
   "execution_count": null,
   "id": "a1af46b3",
   "metadata": {},
   "outputs": [],
   "source": [
    "colunas_dataset = [\"FL_DATE\", \"AIRLINE_CODE\", \"FL_NUMBER\",\"ORIGIN\",\"DEST\",\"DEP_TIME\",\"CRS_DEP_TIME\",\"CRS_ARR_TIME\",\n",
    "                   \"ARR_TIME\",\"CANCELLED\",\"DIVERTED\",\"DISTANCE\",\"DELAY_DUE_CARRIER\",\"DELAY_DUE_WEATHER\",\"DELAY_DUE_NAS\",\n",
    "                   \"DELAY_DUE_SECURITY\",\"DELAY_DUE_LATE_AIRCRAFT\", \"Rating\", \"Modelo Avião\"]"
   ]
  },
  {
   "cell_type": "code",
   "execution_count": null,
   "id": "b52a155f",
   "metadata": {},
   "outputs": [],
   "source": [
    "df_flights = df_flights[colunas_dataset]"
   ]
  },
  {
   "cell_type": "markdown",
   "id": "554f2a7c",
   "metadata": {},
   "source": [
    "# <b></span><span style='color:#87CEEB'> Initial Data Analysis</span></b>"
   ]
  },
  {
   "cell_type": "code",
   "execution_count": null,
   "id": "2952bf36",
   "metadata": {},
   "outputs": [],
   "source": [
    "df_flights.head(10)"
   ]
  },
  {
   "cell_type": "code",
   "execution_count": null,
   "id": "c958a691",
   "metadata": {},
   "outputs": [],
   "source": [
    "df_flights.info()"
   ]
  },
  {
   "cell_type": "code",
   "execution_count": null,
   "id": "fa7fa087",
   "metadata": {},
   "outputs": [],
   "source": [
    "# Summary statistics for numerical variables\n",
    "df_flights.describe().T"
   ]
  },
  {
   "cell_type": "code",
   "execution_count": null,
   "id": "3d9323f5",
   "metadata": {},
   "outputs": [],
   "source": [
    "# Summary statistics for categorical variables\n",
    "df_flights.describe(include='object').T"
   ]
  },
  {
   "cell_type": "markdown",
   "id": "49c79370",
   "metadata": {},
   "source": [
    "<a id=\"feature_engineering\"></a>\n",
    "# <p style=\"background-color: #87CEEB; font-family:calibri; color:black; font-size:140%; font-family:Verdana; text-align:center; border-radius:15px 50px;\">Step 2 | Data Cleaning</p>"
   ]
  },
  {
   "cell_type": "markdown",
   "id": "17c6a1a3",
   "metadata": {},
   "source": [
    "# <b></span><span style='color:#87CEEB'> Treating Cancelled and Diverted Flights</span></b>"
   ]
  },
  {
   "cell_type": "code",
   "execution_count": null,
   "id": "1c43f29f",
   "metadata": {},
   "outputs": [],
   "source": [
    "df_cancelados = df_flights[df_flights[\"CANCELLED\"] == 1.0].copy()\n",
    "df_desviados = df_flights[df_flights[\"DIVERTED\"] == 1.0].copy()"
   ]
  },
  {
   "cell_type": "code",
   "execution_count": null,
   "id": "d45f6e17",
   "metadata": {},
   "outputs": [],
   "source": [
    "diverted_percentage = (df_desviados.shape[0] / df_flights.shape[0]) * 100\n",
    "cancelled_percentage = (df_cancelados.shape[0] / df_flights.shape[0]) * 100"
   ]
  },
  {
   "cell_type": "code",
   "execution_count": null,
   "id": "a0516aae",
   "metadata": {},
   "outputs": [],
   "source": [
    "print(f\"Cancelled flights%: {cancelled_percentage:.2f}\\n Diverted flights%: {diverted_percentage:.2f}\")"
   ]
  },
  {
   "cell_type": "markdown",
   "id": "235db50b",
   "metadata": {},
   "source": [
    "# <b></span><span style='color:#87CEEB'> Handling Nulls</span></b>"
   ]
  },
  {
   "cell_type": "code",
   "execution_count": null,
   "id": "1c608d05",
   "metadata": {},
   "outputs": [],
   "source": [
    "# Calculating the percentage of missing values for each column\n",
    "missing_data = df_flights.isnull().sum()\n",
    "missing_percentage = (missing_data[missing_data > 0] / df_flights.shape[0]) * 100\n",
    "\n",
    "# Prepare values\n",
    "missing_percentage.sort_values(ascending=True, inplace=True)\n",
    "\n",
    "# Plot the barh chart\n",
    "fig, ax = plt.subplots(figsize=(15, 4))\n",
    "ax.barh(missing_percentage.index, missing_percentage, color='#87CEEB')\n",
    "\n",
    "# Annotate the values and indexes\n",
    "for i, (value, name) in enumerate(zip(missing_percentage, missing_percentage.index)):\n",
    "    ax.text(value+0.5, i, f\"{value:.2f}%\", ha='left', va='center', fontweight='bold', fontsize=18, color='black')\n",
    "\n",
    "# Set x-axis limit\n",
    "ax.set_xlim([0, 40])\n",
    "\n",
    "# Add title and xlabel\n",
    "plt.title(\"Percentage of Missing Values\", fontweight='bold', fontsize=22)\n",
    "plt.xlabel('Percentages (%)', fontsize=16)\n",
    "plt.show()"
   ]
  },
  {
   "cell_type": "code",
   "execution_count": null,
   "id": "7a72710e",
   "metadata": {},
   "outputs": [],
   "source": [
    "df_flights_clean = df_flights.dropna(subset=[\"ARR_TIME\",\"DEP_TIME\"]).copy()"
   ]
  },
  {
   "cell_type": "code",
   "execution_count": null,
   "id": "98364590",
   "metadata": {},
   "outputs": [],
   "source": [
    "def hhmm_to_minutes(hhmm):\n",
    "    # Converter valores nulos ou inválidos\n",
    "    try:\n",
    "        hhmm = int(hhmm)\n",
    "        hours = hhmm // 100\n",
    "        minutes = hhmm % 100\n",
    "        return hours * 60 + minutes\n",
    "    except:\n",
    "        return None\n",
    "\n",
    "# Converter os tempos para minutos\n",
    "df_flights_clean.loc[:, \"DEP_TIME_MIN\"] =  df_flights_clean[\"DEP_TIME\"].apply(hhmm_to_minutes)\n",
    "df_flights_clean.loc[:, \"CRS_DEP_TIME_MIN\"] =  df_flights_clean[\"CRS_DEP_TIME\"].apply(hhmm_to_minutes)\n",
    "df_flights_clean.loc[:, \"ARR_TIME_MIN\"] =  df_flights_clean[\"ARR_TIME\"].apply(hhmm_to_minutes)\n",
    "df_flights_clean.loc[:, \"CRS_ARR_TIME_MIN\"] =  df_flights_clean[\"CRS_ARR_TIME\"].apply(hhmm_to_minutes)\n",
    "\n",
    "#for col in [\"DEP_TIME\", \"CRS_DEP_TIME\", \"ARR_TIME\", \"CRS_ARR_TIME\"]:\n",
    "#    df_flights_clean[col + \"_MIN\"] = df_flights_clean[col].apply(hhmm_to_minutes)\n",
    "\n",
    "# Calcular o TOTAL_DELAY\n",
    "df_flights_clean[\"DEP_DELAY\"] = (\n",
    "    df_flights_clean[\"DEP_TIME_MIN\"] - df_flights_clean[\"CRS_DEP_TIME_MIN\"]\n",
    ")\n",
    "\n",
    "df_flights_clean[\"ARR_DELAY\"] = (\n",
    "    df_flights_clean[\"ARR_TIME_MIN\"] - df_flights_clean[\"CRS_ARR_TIME_MIN\"]\n",
    ")\n"
   ]
  },
  {
   "cell_type": "code",
   "execution_count": null,
   "id": "304b936f",
   "metadata": {},
   "outputs": [],
   "source": [
    "df_flights_clean.head(10)"
   ]
  },
  {
   "cell_type": "code",
   "execution_count": null,
   "id": "b17242a0",
   "metadata": {},
   "outputs": [],
   "source": [
    "df_cancelados1 = df_flights_clean[df_flights_clean[\"CANCELLED\"] == 1.0].copy()\n",
    "df_desviados1 = df_flights_clean[df_flights_clean[\"DIVERTED\"] == 1.0].copy()\n",
    "\n",
    "cancelled_percentage = (df_cancelados1.shape[0] / df_flights_clean.shape[0]) * 100\n",
    "diverted_percentage = (df_desviados1.shape[0] / df_flights_clean.shape[0]) * 100\n",
    "\n",
    "print(f\"Cancelled flights%: {cancelled_percentage:.2f}\\n Diverted flights%: {diverted_percentage:.2f}\")\n"
   ]
  },
  {
   "cell_type": "code",
   "execution_count": null,
   "id": "dfdb5d08",
   "metadata": {},
   "outputs": [],
   "source": [
    "df_flights_clean = df_flights_clean[(df_flights[\"DIVERTED\"] != 1.0)].copy()"
   ]
  },
  {
   "cell_type": "code",
   "execution_count": null,
   "id": "39fe4d19",
   "metadata": {},
   "outputs": [],
   "source": [
    "df_flights_clean.drop([\"CANCELLED\", \"DIVERTED\", \"DEP_TIME_MIN\", \"CRS_DEP_TIME_MIN\", \"ARR_TIME_MIN\", \"CRS_ARR_TIME_MIN\"], axis=1, inplace=True)"
   ]
  },
  {
   "cell_type": "code",
   "execution_count": null,
   "id": "5a217be1",
   "metadata": {},
   "outputs": [],
   "source": [
    "df_flights_clean.head(10)"
   ]
  },
  {
   "cell_type": "markdown",
   "id": "2234b7c4",
   "metadata": {},
   "source": [
    "<a id=\"feature_engineering\"></a>\n",
    "# <p style=\"background-color: #87CEEB; font-family:calibri; color:black; font-size:140%; font-family:Verdana; text-align:center; border-radius:15px 50px;\">Step 3 | Feature Engineering</p>"
   ]
  },
  {
   "cell_type": "markdown",
   "id": "44fe681c",
   "metadata": {},
   "source": [
    "# <b></span><span style='color:#87CEEB'> RFM Features</span></b>"
   ]
  },
  {
   "cell_type": "markdown",
   "id": "6da0e3a0",
   "metadata": {},
   "source": [
    "<div style=\"border-radius:10px; padding:15px; background-color:#87CEEB; font-size:120%; text-align:left; color: black;\">\n",
    "  <h2>Recency</h2>\n",
    "  <p>Vamos usar a <b>recência</b> para analisar quão recente foi o último atraso.</p>\n",
    "\n",
    "  <h2>Frequency</h2>\n",
    "  <p>A <b>frequência</b> nos permite descobrir se os atrasos são acontecimentos recorrentes.</p>\n",
    "\n",
    "  <h2>Monetary</h2>\n",
    "  <p>Qual é a <b>quantidade</b> total de atrasos? aplicar aos aeroportos? companhias aereas? aos dois? Nem sei se faz sentido aplicar isto aqui ou nao</p>\n",
    "</div>"
   ]
  },
  {
   "cell_type": "code",
   "execution_count": null,
   "id": "975a36c9",
   "metadata": {},
   "outputs": [],
   "source": [
    "# Convert FL_DATE to datetime type\n",
    "df_flights_clean['FL_DATE'] = pd.to_datetime(df_flights_clean['FL_DATE'])\n",
    "\n",
    "# Convert FL_DATE to datetime and extract only the date\n",
    "df_flights_clean['FL_DATE'] = df_flights_clean['FL_DATE'].dt.date\n",
    "\n",
    "# Find the most recent DELAY date for each airline\n",
    "airline_data = df_flights_clean.groupby('AIRLINE_CODE')['FL_DATE'].max().reset_index()\n",
    "\n",
    "# Find the most recent date in the entire dataset\n",
    "most_recent_date = df_flights_clean['FL_DATE'].max()\n",
    "\n",
    "# Convert FL_DATE to datetime type before subtraction\n",
    "airline_data['FL_DATE'] = pd.to_datetime(airline_data['FL_DATE'])\n",
    "most_recent_date = pd.to_datetime(most_recent_date)\n",
    "\n",
    "# Calculate the number of days since the last purchase for each airline\n",
    "airline_data['Days_Since_Last_Delay'] = (most_recent_date - airline_data['FL_DATE']).dt.days\n",
    "\n",
    "# Remove the FL_DATE column\n",
    "airline_data.drop(columns=['FL_DATE'], inplace=True)"
   ]
  },
  {
   "cell_type": "code",
   "execution_count": null,
   "id": "394bbd5b",
   "metadata": {},
   "outputs": [],
   "source": [
    "# Calculate the total number of flights made by each airline\n",
    "total_flights = df_flights_clean.groupby('AIRLINE_CODE')['FL_DATE'].count().reset_index()\n",
    "total_flights.rename(columns={'FL_DATE': 'Total_Flights'}, inplace=True)\n",
    "\n",
    "\n",
    "# Merge the new features into the airline_data dataframe\n",
    "airline_data = pd.merge(airline_data, total_flights, on='AIRLINE_CODE')\n",
    "\n",
    "# Display the first few rows of the airline_data dataframe\n",
    "airline_data.head()"
   ]
  },
  {
   "cell_type": "code",
   "execution_count": null,
   "id": "c41b6691",
   "metadata": {},
   "outputs": [],
   "source": [
    "# Calculate the total delay by each airline\n",
    "df_flights_clean['Total_Delay'] = df_flights_clean['DEP_DELAY'] + df_flights_clean['ARR_DELAY']\n",
    "total_delay = df_flights_clean.groupby('AIRLINE_CODE')['Total_Delay'].sum().reset_index()\n",
    "\n",
    "# Calculate the average transaction value for each customer\n",
    "average_delay = total_delay.merge(total_flights, on='AIRLINE_CODE')\n",
    "average_delay['Average_Delay'] = average_delay['Total_Delay'] / average_delay['Total_Flights']\n",
    "\n",
    "# Merge the new features into the airline_data dataframe\n",
    "airline_data = pd.merge(airline_data, total_delay, on='AIRLINE_CODE')\n",
    "airline_data = pd.merge(airline_data, average_delay[['AIRLINE_CODE', 'Average_Delay']], on='AIRLINE_CODE')\n",
    "\n",
    "# Display the first few rows of the airline_data dataframe\n",
    "airline_data.head()"
   ]
  },
  {
   "cell_type": "markdown",
   "id": "b4e0e38a",
   "metadata": {},
   "source": [
    "# <b></span><span style='color:#87CEEB'> Flight Diversity</span></b>"
   ]
  },
  {
   "cell_type": "code",
   "execution_count": null,
   "id": "f0c0109b",
   "metadata": {},
   "outputs": [],
   "source": [
    "# Calculate the number of unique products purchased by each airline\n",
    "unique_flights = df_flights_clean.groupby('AIRLINE_CODE')['FL_NUMBER'].nunique().reset_index()\n",
    "unique_flights.rename(columns={'FL_NUMBER': 'Unique_Flights'}, inplace=True)\n",
    "\n",
    "# Merge the new feature into the airline_data dataframe\n",
    "airline_data = pd.merge(airline_data, unique_flights, on='AIRLINE_CODE')\n",
    "\n",
    "# Display the first few rows of the airline_data dataframe\n",
    "airline_data.head()"
   ]
  }
 ],
 "metadata": {
  "kernelspec": {
   "display_name": "Python 3",
   "language": "python",
   "name": "python3"
  },
  "language_info": {
   "codemirror_mode": {
    "name": "ipython",
    "version": 3
   },
   "file_extension": ".py",
   "mimetype": "text/x-python",
   "name": "python",
   "nbconvert_exporter": "python",
   "pygments_lexer": "ipython3",
   "version": "3.11.9"
  }
 },
 "nbformat": 4,
 "nbformat_minor": 5
}
