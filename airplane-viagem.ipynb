{
 "cells": [
  {
   "cell_type": "code",
   "execution_count": null,
   "id": "76f5137f",
   "metadata": {},
   "outputs": [],
   "source": [
    "import pandas as pd\n",
    "import numpy as np\n"
   ]
  },
  {
   "cell_type": "code",
   "execution_count": null,
   "id": "515dce8a",
   "metadata": {},
   "outputs": [],
   "source": [
    "arquivo_modelos = './airplane/airplanedat.csv'\n",
    "\n",
    "df_modelos = pd.read_csv(arquivo_modelos, header=None, names=[\"Modelo\", \"Coluna2\", \"Coluna3\"])\n",
    "df_flights = pd.read_csv('viagens/flights_sample_3m.csv')"
   ]
  },
  {
   "cell_type": "code",
   "execution_count": null,
   "id": "876e7fc6",
   "metadata": {},
   "outputs": [],
   "source": [
    "# Função para extrair o fabricante da string do modelo\n",
    "def extrair_fabricante(modelo):\n",
    "    modelo = str(modelo).strip().replace('\"', '')\n",
    "    return modelo.split()[0]\n",
    "\n",
    "# Aplica a função à coluna \"Modelo\"\n",
    "df_modelos[\"Fabricante\"] = df_modelos[\"Modelo\"].apply(extrair_fabricante)\n",
    "\n",
    "# Visualiza os primeiros 10 resultados\n",
    "df_modelos.head(10)"
   ]
  },
  {
   "cell_type": "code",
   "execution_count": null,
   "id": "a227b118",
   "metadata": {},
   "outputs": [],
   "source": [
    "# Tabela com percentagens\n",
    "dados_percentagem = {\n",
    "    \"Boeing\": 35,\n",
    "    \"Airbus\": 32,\n",
    "    \"Embraer\": 8,\n",
    "    \"Bombardier\": 6,\n",
    "    \"McDonnell Douglas\": 5,\n",
    "    \"ATR\": 3,\n",
    "    \"De Havilland\": 2,\n",
    "    \"Fokker\": 1,\n",
    "    \"Tupolev\": 1,\n",
    "    \"Ilyushin\": \"<1\",\n",
    "    \"Sukhoi\": \"<1\",\n",
    "    \"COMAC\": \"<1\",\n",
    "    \"Antonov\": \"<1\",\n",
    "    \"Yakovlev\": \"<1\",\n",
    "    \"British Aerospace\": \"<1\",\n",
    "    \"BAe\": \"<1\",\n",
    "    \"Avro\": \"<1\",\n",
    "    \"Lockheed\": \"<1\",\n",
    "    \"Fairchild Dornier\": \"<1\",\n",
    "    \"Saab\": \"<1\",\n",
    "    \"Harbin\": \"<1\",\n",
    "    \"Partenavia\": \"<1\",\n",
    "    \"Pilatus\": \"<1\",\n",
    "    \"Piper\": \"<1\",\n",
    "    \"Cessna\": \"<1\",\n",
    "    \"Beechcraft\": \"<1\",\n",
    "    \"Hawker\": \"<1\",\n",
    "    \"Learjet\": \"<1\",\n",
    "    \"Aerospatiale\": \"<1\",\n",
    "    \"Concorde\": 0,\n",
    "    \"NAMC\": 0,\n",
    "    \"Sikorsky\": \"N/A\",\n",
    "    \"Bell\": \"N/A\"\n",
    "}"
   ]
  },
  {
   "cell_type": "code",
   "execution_count": null,
   "id": "8fc29842",
   "metadata": {},
   "outputs": [],
   "source": [
    "df_percentagem = pd.DataFrame(list(dados_percentagem.items()), columns=[\"Fabricante\", \"Percentagem de Uso Comercial (%)\"])"
   ]
  },
  {
   "cell_type": "code",
   "execution_count": null,
   "id": "e7462a54",
   "metadata": {},
   "outputs": [],
   "source": [
    "# Merge dos datasets com base no nome do fabricante\n",
    "df_final = pd.merge(df_modelos, df_percentagem, how=\"left\", left_on=\"Fabricante\", right_on=\"Fabricante\")"
   ]
  },
  {
   "cell_type": "code",
   "execution_count": null,
   "id": "439a6dae",
   "metadata": {},
   "outputs": [],
   "source": [
    "df_final = df_final.drop(columns=[\"Coluna2\", \"Coluna3\"])\n"
   ]
  },
  {
   "cell_type": "code",
   "execution_count": null,
   "id": "0811fe39",
   "metadata": {},
   "outputs": [],
   "source": [
    "df_final[\"id\"] = range(1, len(df_final) + 1)\n"
   ]
  },
  {
   "cell_type": "code",
   "execution_count": null,
   "id": "98be6bb4",
   "metadata": {},
   "outputs": [],
   "source": [
    "df_avioes = df_final\n"
   ]
  },
  {
   "cell_type": "code",
   "execution_count": null,
   "id": "35e192e5",
   "metadata": {},
   "outputs": [],
   "source": []
  },
  {
   "cell_type": "code",
   "execution_count": null,
   "id": "76590dfe",
   "metadata": {},
   "outputs": [],
   "source": [
    "def percentagem_valida(valor):\n",
    "    try:\n",
    "        valor_str = str(valor).replace('%', '').strip()\n",
    "        if '<' in valor_str or 'N/A' in valor_str:\n",
    "            return False\n",
    "        return float(valor_str) >= 1\n",
    "    except:\n",
    "        return False\n"
   ]
  },
  {
   "cell_type": "code",
   "execution_count": null,
   "id": "2fab06d2",
   "metadata": {},
   "outputs": [],
   "source": [
    "# 2. Filtrar apenas os aviões que têm percentagem numérica (descartar 'N/A', '<1', etc)\n",
    "df_avioes_filtrado = df_avioes[df_avioes[\"Percentagem de Uso Comercial (%)\"].apply(percentagem_valida)].copy()\n",
    "df_avioes_filtrado.head(10)\n",
    "\n"
   ]
  },
  {
   "cell_type": "code",
   "execution_count": null,
   "id": "9972d947",
   "metadata": {},
   "outputs": [],
   "source": [
    "# 3. Converter a percentagem para número\n",
    "df_avioes_filtrado[\"Peso\"] = df_avioes_filtrado[\"Percentagem de Uso Comercial (%)\"].astype(float)\n",
    "\n",
    "# 4. Normalizar os pesos para somarem 1 (distribuição de probabilidade)\n",
    "df_avioes_filtrado[\"Peso Normalizado\"] = df_avioes_filtrado[\"Peso\"] / df_avioes_filtrado[\"Peso\"].sum()\n",
    "\n",
    "# 5. Gerar amostra aleatória com base nas percentagens\n",
    "avioes_amostrados = np.random.choice(\n",
    "    df_avioes_filtrado[\"Modelo\"], \n",
    "    size=len(df_flights), \n",
    "    p=df_avioes_filtrado[\"Peso Normalizado\"]\n",
    ")\n",
    "\n",
    "# 6. Adicionar ao dataframe de voos\n",
    "df_flights[\"Modelo Avião\"] = avioes_amostrados\n",
    "\n",
    "# 7. Salvar o resultado\n",
    "df_flights.to_csv(\"flights_com_modelos.csv\", index=False)\n",
    "df_flights.head(10)"
   ]
  }
 ],
 "metadata": {
  "kernelspec": {
   "display_name": "Python 3",
   "language": "python",
   "name": "python3"
  },
  "language_info": {
   "codemirror_mode": {
    "name": "ipython",
    "version": 3
   },
   "file_extension": ".py",
   "mimetype": "text/x-python",
   "name": "python",
   "nbconvert_exporter": "python",
   "pygments_lexer": "ipython3",
   "version": "3.11.9"
  }
 },
 "nbformat": 4,
 "nbformat_minor": 5
}
